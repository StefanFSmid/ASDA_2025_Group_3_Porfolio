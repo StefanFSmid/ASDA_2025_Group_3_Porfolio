{
 "cells": [
  {
   "metadata": {},
   "cell_type": "markdown",
   "source": "## test",
   "id": "7f67c735db1d47c9"
  },
  {
   "metadata": {
    "ExecuteTime": {
     "end_time": "2025-10-30T13:59:02.787158Z",
     "start_time": "2025-10-30T13:59:02.776267Z"
    }
   },
   "cell_type": "code",
   "source": "print(\"hello world\")",
   "id": "d7df7ad037e7fd22",
   "outputs": [
    {
     "name": "stdout",
     "output_type": "stream",
     "text": [
      "hello world\n"
     ]
    }
   ],
   "execution_count": 1
  },
  {
   "metadata": {},
   "cell_type": "code",
   "outputs": [],
   "execution_count": null,
   "source": "",
   "id": "b66c0e95c2a8caab"
  }
 ],
 "metadata": {
  "kernelspec": {
   "display_name": "Python 3",
   "language": "python",
   "name": "python3"
  },
  "language_info": {
   "codemirror_mode": {
    "name": "ipython",
    "version": 2
   },
   "file_extension": ".py",
   "mimetype": "text/x-python",
   "name": "python",
   "nbconvert_exporter": "python",
   "pygments_lexer": "ipython2",
   "version": "2.7.6"
  }
 },
 "nbformat": 4,
 "nbformat_minor": 5
}
