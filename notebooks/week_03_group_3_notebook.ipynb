{
 "cells": [
  {
   "cell_type": "code",
   "execution_count": 3,
   "id": "d47184a3",
   "metadata": {},
   "outputs": [],
   "source": [
    "import pandas as pd\n",
    "\n",
    "# Step 1: Load the Excel file\n",
    "file_path = r\"C:\\Users\\sassa\\MDS2025\\ASDA_2025_Group_3_Porfolio\\datasets\\LegoDatabase.xlsx\" \n",
    "\n",
    "# Read all sheets into DataFrames\n",
    "all_sheets = pd.read_excel(file_path, sheet_name=None)  \n",
    "\n",
    "# Step 2: Concatenate all sheets into one DataFrame\n",
    "combinedLego_df = pd.concat(all_sheets.values(), ignore_index=True)\n",
    "\n",
    "# Step 3: Save the merged DataFrame to a new Excel file\n",
    "combinedLego_df.to_excel(r\"C:\\Users\\sassa\\MDS2025\\ASDA_2025_Group_3_Porfolio\\datasets\\combined_LegoDataset.xlsx\", index=False)\n",
    "\n"
   ]
  }
 ],
 "metadata": {
  "kernelspec": {
   "display_name": "ASDA",
   "language": "python",
   "name": "python3"
  },
  "language_info": {
   "codemirror_mode": {
    "name": "ipython",
    "version": 3
   },
   "file_extension": ".py",
   "mimetype": "text/x-python",
   "name": "python",
   "nbconvert_exporter": "python",
   "pygments_lexer": "ipython3",
   "version": "3.10.18"
  }
 },
 "nbformat": 4,
 "nbformat_minor": 5
}
