{
 "cells": [
  {
   "cell_type": "code",
   "execution_count": 2,
   "id": "initial_id",
   "metadata": {},
   "cell_type": "markdown",
   "source": "## test",
   "id": "7f67c735db1d47c9"
  },
  {
   "metadata": {
    "ExecuteTime": {
     "end_time": "2025-10-30T13:59:02.787158Z",
     "start_time": "2025-10-30T13:59:02.776267Z"
    }
   },
   "cell_type": "code",
   "source": "print(\"hello world\")",
   "id": "d7df7ad037e7fd22",
   "outputs": [
    {
     "name": "stdout",
     "output_type": "stream",
     "text": [
      "Sheets found: ['group1', 'group 2', 'group_3', 'group 4', 'group_5', 'Sheet5']\n"
     ]
    }
   ],
   "source": [
    "import pandas as pd\n",
    "\n",
    "# Path to your Excel file\n",
    "file_path = r\"C:\\Users\\sassa\\MDS2025\\Lego Database.xlsx\"\n",
    "\n",
    "# Load all sheet names\n",
    "sheet_names = pd.ExcelFile(file_path).sheet_names\n",
    "print(\"Sheets found:\", sheet_names)\n",
    "\n",
    "# Read all sheets into dataframes\n",
    "dfs = [pd.read_excel(file_path, sheet_name=name) for name in sheet_names]\n",
    "\n",
    "# Concatenate all sheets into one dataframe\n",
    "combined_df = pd.concat(dfs, ignore_index=True)\n",
    "\n",
    "# Save the combined dataframe to a CSV file\n",
    "combined_df.to_csv(r\"C:\\Users\\sassa\\MDS2025\\ASDA_2025_Group_3_Porfolio\\datasets\\combined_LegoDataset.csv\", index=False)\n"
   ]
      "hello world\n"
     ]
    }
   ],
   "execution_count": 1
  },
  {
   "metadata": {},
   "cell_type": "code",
   "outputs": [],
   "execution_count": null,
   "source": "",
   "id": "b66c0e95c2a8caab"
  }
 ],
 "metadata": {
  "kernelspec": {
   "display_name": "ASDA",
   "language": "python",
   "name": "python3"
  },
  "language_info": {
   "codemirror_mode": {
    "name": "ipython",
    "version": 3
   },
   "file_extension": ".py",
   "mimetype": "text/x-python",
   "name": "python",
   "nbconvert_exporter": "python",
   "pygments_lexer": "ipython3",
   "version": "3.10.18"
  }
 },
 "nbformat": 4,
 "nbformat_minor": 5
}
